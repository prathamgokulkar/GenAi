{
 "cells": [
  {
   "cell_type": "markdown",
   "id": "c4deb782",
   "metadata": {},
   "source": [
    "### RNN\n",
    "- In artificial neural networks, the sequence or order of features did not matter. Recurrent neural networks (RNNs) are designed for processing sequential data, such as text, speech, and time series, where the order of elements is important\n",
    "\n",
    "- Unlike feedforward neural networks, which process inputs independently, RNNs utilize recurrent connections, where the output of a neuron at one time step is fed back as input to the network at the next time step. This enables RNNs to capture temporal dependencies and patterns within sequences.\n",
    "\n",
    "- However, traditional RNNs suffer from the vanishing gradient problem, which limits their ability to learn long-range dependencies"
   ]
  },
  {
   "cell_type": "code",
   "execution_count": null,
   "id": "12a5ce54",
   "metadata": {
    "vscode": {
     "languageId": "plaintext"
    }
   },
   "outputs": [],
   "source": []
  },
  {
   "cell_type": "markdown",
   "id": "d2ddc309",
   "metadata": {},
   "source": [
    "### LSTM (Long-Short Term Memory)\n",
    "\n",
    "https://colah.github.io/posts/2015-08-Understanding-LSTMs/"
   ]
  },
  {
   "cell_type": "markdown",
   "id": "6ca7970c",
   "metadata": {},
   "source": []
  }
 ],
 "metadata": {
  "language_info": {
   "name": "python"
  }
 },
 "nbformat": 4,
 "nbformat_minor": 5
}
