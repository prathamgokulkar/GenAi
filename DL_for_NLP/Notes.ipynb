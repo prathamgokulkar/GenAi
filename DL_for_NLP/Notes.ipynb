{
 "cells": [
  {
   "cell_type": "markdown",
   "id": "c4deb782",
   "metadata": {},
   "source": [
    "### RNN\n",
    "- In artificial neural networks, the sequence or order of features did not matter. Recurrent neural networks (RNNs) are designed for processing sequential data, such as text, speech, and time series, where the order of elements is important\n",
    "\n",
    "- Unlike feedforward neural networks, which process inputs independently, RNNs utilize recurrent connections, where the output of a neuron at one time step is fed back as input to the network at the next time step. This enables RNNs to capture temporal dependencies and patterns within sequences.\n",
    "\n",
    "- However, traditional RNNs suffer from the vanishing gradient problem, which limits their ability to learn long-range dependencies"
   ]
  }
 ],
 "metadata": {
  "language_info": {
   "name": "python"
  }
 },
 "nbformat": 4,
 "nbformat_minor": 5
}
